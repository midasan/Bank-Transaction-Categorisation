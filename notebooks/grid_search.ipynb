{
 "cells": [
  {
   "cell_type": "code",
   "execution_count": 13,
   "metadata": {},
   "outputs": [],
   "source": [
    "import pandas as pd\n",
    "import numpy as np\n",
    "from sklearn.ensemble import ExtraTreesClassifier, RandomForestClassifier\n",
    "from sklearn.linear_model import LogisticRegression\n",
    "from xgboost import XGBClassifier\n",
    "from sklearn.svm import SVC\n",
    "from sklearn.model_selection import cross_val_score, GridSearchCV\n",
    "from sklearn.model_selection import StratifiedKFold, StratifiedShuffleSplit, train_test_split\n",
    "\n",
    "import sys\n",
    "sys.path.append('/project/dissertation')\n",
    "\n",
    "# Load custom modules\n",
    "from utils.config import config as cf\n",
    "import utils.feature_eng_utils as feature_utils\n",
    "\n",
    "import warnings\n",
    "warnings.filterwarnings(action='once')"
   ]
  },
  {
   "cell_type": "code",
   "execution_count": 14,
   "metadata": {
    "scrolled": true
   },
   "outputs": [
    {
     "name": "stdout",
     "output_type": "stream",
     "text": [
      "======= Load Currency :::  /project/dissertation/resources/currency.csv\n",
      "Total  285  rows\n",
      "======= Load Cities name :::  /project/dissertation/resources/nz_cities.csv\n",
      "Total  1040  rows\n",
      "======= Load Stopword name :::  /project/dissertation/resources/stop_words.csv\n",
      "Total  10  rows\n"
     ]
    }
   ],
   "source": [
    "df = pd.read_csv(cf.DATA_PATH+'/train.csv', parse_dates=['Date'])\n",
    "df['Description'] = df['Description'].fillna('')\n",
    "\n",
    "df = feature_utils.preprocess_description(df, True)"
   ]
  },
  {
   "cell_type": "code",
   "execution_count": 15,
   "metadata": {},
   "outputs": [],
   "source": [
    "from sklearn.preprocessing import StandardScaler\n",
    "\n",
    "fasttext_embeddings = np.load(cf.EXPORT_PATH+'/text_embeddings/FastText.npy')\n",
    "desc_embedding = pd.DataFrame(fasttext_embeddings)\n",
    "\n",
    "scaler = StandardScaler()\n",
    "df['Amount_t'] = scaler.fit_transform(df['Amount_logabs'].values.reshape(-1,1))\n",
    "X = pd.concat([desc_embedding,  df[['isExpense', 'isAcctNo']]], axis=1)\n",
    "y = df['label']"
   ]
  },
  {
   "cell_type": "code",
   "execution_count": 16,
   "metadata": {},
   "outputs": [],
   "source": [
    "# Define a function to perform Grid search based on the given model & params\n",
    "def perform_grid_search(X, y, model, param_grid, cv = cf.CV):\n",
    "    kfold = StratifiedKFold(n_splits=cv, shuffle=True, random_state=99)\n",
    "    grid_results = GridSearchCV(estimator=model, param_grid=param_grid, cv= kfold , scoring='f1_macro', n_jobs=-1, iid = False)\n",
    "    grid_results.fit(X, y)\n",
    "    print('> Grid search for {}'.format(model.__class__.__name__))\n",
    "    print('Best Parameters: ',grid_results.best_params_)\n",
    "    print('Best Score: ',grid_results.best_score_)\n",
    "    print('-' * 50)\n",
    "    return grid_results"
   ]
  },
  {
   "cell_type": "code",
   "execution_count": 21,
   "metadata": {
    "scrolled": false
   },
   "outputs": [
    {
     "name": "stderr",
     "output_type": "stream",
     "text": [
      "/opt/anaconda/envs/Python3/lib/python3.6/site-packages/joblib/externals/loky/process_executor.py:706: UserWarning: A worker stopped while some jobs were given to the executor. This can be caused by a too short worker timeout or by a memory leak.\n",
      "  \"timeout or by a memory leak.\", UserWarning\n"
     ]
    },
    {
     "name": "stdout",
     "output_type": "stream",
     "text": [
      "> Grid search for RandomForestClassifier\n",
      "Best Parameters:  {'max_depth': 40, 'max_features': 'auto', 'n_estimators': 50}\n",
      "Best Score:  0.8018934853170642\n",
      "--------------------------------------------------\n"
     ]
    }
   ],
   "source": [
    "rf_model = RandomForestClassifier(class_weight='balanced', random_state = cf.RANDOM_ST)\n",
    "param_grid_rf = {\n",
    " 'n_estimators': [50, 200, 500],\n",
    " 'max_features': ['auto'],\n",
    " 'max_depth': [None, 20, 40, 60, 80, 100]\n",
    "}\n",
    "grid_randf = perform_grid_search(X, y, rf_model, param_grid_rf)"
   ]
  },
  {
   "cell_type": "code",
   "execution_count": 22,
   "metadata": {},
   "outputs": [
    {
     "name": "stderr",
     "output_type": "stream",
     "text": [
      "/opt/anaconda/envs/Python3/lib/python3.6/site-packages/joblib/externals/loky/process_executor.py:706: UserWarning: A worker stopped while some jobs were given to the executor. This can be caused by a too short worker timeout or by a memory leak.\n",
      "  \"timeout or by a memory leak.\", UserWarning\n"
     ]
    },
    {
     "name": "stdout",
     "output_type": "stream",
     "text": [
      "> Grid search for ExtraTreesClassifier\n",
      "Best Parameters:  {'max_depth': 20, 'max_features': 'auto', 'n_estimators': 200}\n",
      "Best Score:  0.8014457858543315\n",
      "--------------------------------------------------\n"
     ]
    }
   ],
   "source": [
    "xtree_model = ExtraTreesClassifier(class_weight='balanced', random_state=cf.RANDOM_ST)\n",
    "param_grid_xtree = {\n",
    " 'n_estimators': [50, 200, 500, 700, 1000],\n",
    " 'max_features': ['auto', 'sqrt', 'log2'],\n",
    " 'max_depth': [None, 20, 40, 60, 80, 100]\n",
    "}\n",
    "grid_xtree = perform_grid_search(X, y, xtree_model, param_grid_xtree)"
   ]
  },
  {
   "cell_type": "code",
   "execution_count": 23,
   "metadata": {},
   "outputs": [
    {
     "name": "stdout",
     "output_type": "stream",
     "text": [
      "> Grid search for SVC\n",
      "Best Parameters:  {'C': 100, 'gamma': 1, 'kernel': 'rbf'}\n",
      "Best Score:  0.8257022383917704\n",
      "--------------------------------------------------\n"
     ]
    }
   ],
   "source": [
    "svc_model = SVC(kernel= 'rbf', gamma='scale', class_weight='balanced', random_state = cf.RANDOM_ST)\n",
    "param_grid_svc = {\n",
    "    'C' : [1, 10, 20, 50, 100],\n",
    "    'gamma' : ['scale', 0.01, 0.1, 1, 10],\n",
    "    'kernel': ['rbf']\n",
    "}\n",
    "grid_svc = perform_grid_search(X, y, svc_model, param_grid_svc)"
   ]
  },
  {
   "cell_type": "code",
   "execution_count": null,
   "metadata": {},
   "outputs": [],
   "source": [
    "logreg_model = LogisticRegression(solver='lbfgs', multi_class='auto', class_weight='balanced', random_state = cf.RANDOM_ST)\n",
    "param_grid_logreg = {\n",
    "    'C' : [0.1, 1, 10, 100],\n",
    "    'solver' : ['newton-cg', 'sag', 'saga', 'lbfgs']\n",
    "}\n",
    "grid_svc = perform_grid_search(X, y, logreg_model, param_grid_logreg)"
   ]
  },
  {
   "cell_type": "code",
   "execution_count": null,
   "metadata": {},
   "outputs": [
    {
     "name": "stderr",
     "output_type": "stream",
     "text": [
      "/opt/anaconda/envs/Python3/lib/python3.6/site-packages/sklearn/model_selection/_split.py:657: Warning: The least populated class in y has only 4 members, which is too few. The minimum number of members in any class cannot be less than n_splits=5.\n",
      "  % (min_groups, self.n_splits)), Warning)\n"
     ]
    }
   ],
   "source": [
    "xgboost_model = XGBClassifier(verbosity=0, random_state = 99)\n",
    "param_grid_xgb={\n",
    "#     'max_depth': [2], #[3,4,5,6,7,8,9], # 5 is good but takes too long in kaggle env\n",
    "#     'subsample': [0.6], #[0.4,0.5,0.6,0.7,0.8,0.9,1.0],\n",
    "#     'colsample_bytree': [0.5], #[0.5,0.6,0.7,0.8],\n",
    "    'learning_rate': [0.1, 0.3, 0.5, 0.7],\n",
    "    'n_estimators': [100, 250, 500]\n",
    "#     'reg_alpha': [0.01, 0.02, 0.03, 0.04]\n",
    "}\n",
    "grid_xgboost = perform_grid_search(X, y, xgboost_model, param_grid_xgb)"
   ]
  },
  {
   "cell_type": "code",
   "execution_count": null,
   "metadata": {},
   "outputs": [],
   "source": []
  }
 ],
 "metadata": {
  "kernelspec": {
   "display_name": "Python [conda env:Python3]",
   "language": "python",
   "name": "conda-env-Python3-py"
  },
  "language_info": {
   "codemirror_mode": {
    "name": "ipython",
    "version": 3
   },
   "file_extension": ".py",
   "mimetype": "text/x-python",
   "name": "python",
   "nbconvert_exporter": "python",
   "pygments_lexer": "ipython3",
   "version": "3.6.8"
  },
  "pycharm": {
   "stem_cell": {
    "cell_type": "raw",
    "source": [],
    "metadata": {
     "collapsed": false
    }
   }
  }
 },
 "nbformat": 4,
 "nbformat_minor": 2
}
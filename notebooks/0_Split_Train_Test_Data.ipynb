{
 "cells": [
  {
   "cell_type": "code",
   "execution_count": 1,
   "metadata": {
    "pycharm": {
     "is_executing": false
    }
   },
   "outputs": [],
   "source": [
    "import sys\n",
    "from sklearn.model_selection import train_test_split\n",
    "sys.path.append('/project/dissertation')\n",
    "\n",
    "# Load custom modules\n",
    "from utils.config import config as cf\n",
    "from utils import txn_reader\n"
   ]
  },
  {
   "cell_type": "markdown",
   "metadata": {
    "pycharm": {
     "name": "#%% md\n"
    }
   },
   "source": [
    "## Load All Data \n",
    "And filter categories which have less than 5 transactions"
   ]
  },
  {
   "cell_type": "code",
   "execution_count": 2,
   "metadata": {
    "pycharm": {
     "is_executing": false,
     "name": "#%%\n"
    }
   },
   "outputs": [
    {
     "name": "stdout",
     "output_type": "stream",
     "text": [
      "======= File ::: \n",
      "Total  1961  rows\n",
      "Bank name:  kiwibank\n",
      "Acct type:  revolving credit\n",
      "======= File ::: \n",
      "Total  91  rows\n",
      "Bank name:  kiwibank\n",
      "Acct type:  everyday\n",
      "======= File ::: \n"
     ]
    },
    {
     "name": "stderr",
     "output_type": "stream",
     "text": [
      "/project/dissertation/utils/txn_reader.py:93: SettingWithCopyWarning: \n",
      "A value is trying to be set on a copy of a slice from a DataFrame.\n",
      "Try using .loc[row_indexer,col_indexer] = value instead\n",
      "\n",
      "See the caveats in the documentation: http://pandas.pydata.org/pandas-docs/stable/indexing.html#indexing-view-versus-copy\n",
      "  df['Description'] = df['Description'].str.split(';').str[0]\n"
     ]
    },
    {
     "name": "stdout",
     "output_type": "stream",
     "text": [
      "Total  964  rows\n",
      "Bank name:  tsb\n",
      "Acct type:  credit card\n",
      "======= File ::: \n",
      "Total  693  rows\n",
      "Bank name:  tsb\n",
      "Acct type:  everyday\n",
      "======= File ::: \n",
      "Total  3368  rows\n",
      "Bank name:  westpac\n",
      "Acct type:  mortgage\n",
      "======= File ::: \n",
      "Total  3175  rows\n",
      "Bank name:  tsb\n",
      "Acct type:  everyday\n",
      "======= File ::: \n",
      "Total  2705  rows\n",
      "Bank name:  westpac\n",
      "Acct type:  mortgage\n",
      "======= File ::: \n",
      "Total  1308  rows\n",
      "Bank name:  tsb\n",
      "Acct type:  everyday\n",
      "======= File ::: \n",
      "Total  380  rows\n",
      "Bank name:  tsb\n",
      "Acct type:  credit card\n",
      "======= File ::: \n",
      "Total  666  rows\n",
      "Bank name:  anz\n",
      "Acct type:  account\n",
      "======= File ::: \n",
      "Total  821  rows\n",
      "Bank name:  anz\n",
      "Acct type:  account\n",
      "======= File ::: \n",
      "Total  152  rows\n",
      "Bank name:  anz\n",
      "Acct type:  credit card\n",
      "Total rows  16266\n",
      "======= Load categories :::  /project/dissertation/Transaction Data/Category_new.xlsx\n",
      "Total  93  rows\n",
      "Load file completed! Total :  16223  transactions\n",
      "All data total rows :  16223\n",
      "Date                 0\n",
      "Description          0\n",
      "Amount               0\n",
      "Category             0\n",
      "Business/Personal    0\n",
      "Bank                 0\n",
      "Account Type         0\n",
      "isOverseas           0\n",
      "isExpense            0\n",
      "Amount_logabs        0\n",
      "Type                 0\n",
      "Main Category        0\n",
      "label                0\n",
      "dtype: int64\n",
      "filtered dataframe :  16151\n"
     ]
    },
    {
     "data": {
      "text/html": [
       "<div>\n",
       "<style scoped>\n",
       "    .dataframe tbody tr th:only-of-type {\n",
       "        vertical-align: middle;\n",
       "    }\n",
       "\n",
       "    .dataframe tbody tr th {\n",
       "        vertical-align: top;\n",
       "    }\n",
       "\n",
       "    .dataframe thead th {\n",
       "        text-align: right;\n",
       "    }\n",
       "</style>\n",
       "<table border=\"1\" class=\"dataframe\">\n",
       "  <thead>\n",
       "    <tr style=\"text-align: right;\">\n",
       "      <th></th>\n",
       "      <th>Date</th>\n",
       "      <th>Description</th>\n",
       "      <th>Amount</th>\n",
       "      <th>Category</th>\n",
       "      <th>Business/Personal</th>\n",
       "      <th>Bank</th>\n",
       "      <th>Account Type</th>\n",
       "      <th>isOverseas</th>\n",
       "      <th>isExpense</th>\n",
       "      <th>Amount_logabs</th>\n",
       "      <th>Type</th>\n",
       "      <th>Main Category</th>\n",
       "      <th>label</th>\n",
       "    </tr>\n",
       "  </thead>\n",
       "  <tbody>\n",
       "    <tr>\n",
       "      <th>0</th>\n",
       "      <td>2018-09-18</td>\n",
       "      <td>1 cover auckland</td>\n",
       "      <td>-91.51</td>\n",
       "      <td>travel insurance</td>\n",
       "      <td>personal</td>\n",
       "      <td>kiwibank</td>\n",
       "      <td>revolving credit</td>\n",
       "      <td>0</td>\n",
       "      <td>1</td>\n",
       "      <td>4.516558</td>\n",
       "      <td>expenses</td>\n",
       "      <td>international work travel</td>\n",
       "      <td>Expenses::International Work Travel::Travel In...</td>\n",
       "    </tr>\n",
       "    <tr>\n",
       "      <th>1</th>\n",
       "      <td>2017-09-29</td>\n",
       "      <td>southern cross travel aauckland</td>\n",
       "      <td>-144.16</td>\n",
       "      <td>travel insurance</td>\n",
       "      <td>personal</td>\n",
       "      <td>kiwibank</td>\n",
       "      <td>revolving credit</td>\n",
       "      <td>0</td>\n",
       "      <td>1</td>\n",
       "      <td>4.970993</td>\n",
       "      <td>expenses</td>\n",
       "      <td>international work travel</td>\n",
       "      <td>Expenses::International Work Travel::Travel In...</td>\n",
       "    </tr>\n",
       "    <tr>\n",
       "      <th>2</th>\n",
       "      <td>2017-08-25</td>\n",
       "      <td>southern cross travel aauckland</td>\n",
       "      <td>-122.16</td>\n",
       "      <td>travel insurance</td>\n",
       "      <td>personal</td>\n",
       "      <td>kiwibank</td>\n",
       "      <td>revolving credit</td>\n",
       "      <td>0</td>\n",
       "      <td>1</td>\n",
       "      <td>4.805414</td>\n",
       "      <td>expenses</td>\n",
       "      <td>international work travel</td>\n",
       "      <td>Expenses::International Work Travel::Travel In...</td>\n",
       "    </tr>\n",
       "    <tr>\n",
       "      <th>3</th>\n",
       "      <td>2017-07-27</td>\n",
       "      <td>1 cover auckland  (115)</td>\n",
       "      <td>-144.48</td>\n",
       "      <td>travel insurance</td>\n",
       "      <td>personal</td>\n",
       "      <td>tsb</td>\n",
       "      <td>credit card</td>\n",
       "      <td>0</td>\n",
       "      <td>1</td>\n",
       "      <td>4.973210</td>\n",
       "      <td>expenses</td>\n",
       "      <td>international work travel</td>\n",
       "      <td>Expenses::International Work Travel::Travel In...</td>\n",
       "    </tr>\n",
       "    <tr>\n",
       "      <th>4</th>\n",
       "      <td>2017-02-11</td>\n",
       "      <td>1 cover</td>\n",
       "      <td>-208.00</td>\n",
       "      <td>travel insurance</td>\n",
       "      <td>personal</td>\n",
       "      <td>westpac</td>\n",
       "      <td>credit card</td>\n",
       "      <td>0</td>\n",
       "      <td>1</td>\n",
       "      <td>5.337586</td>\n",
       "      <td>expenses</td>\n",
       "      <td>international work travel</td>\n",
       "      <td>Expenses::International Work Travel::Travel In...</td>\n",
       "    </tr>\n",
       "  </tbody>\n",
       "</table>\n",
       "</div>"
      ],
      "text/plain": [
       "        Date                      Description  Amount          Category  \\\n",
       "0 2018-09-18                 1 cover auckland  -91.51  travel insurance   \n",
       "1 2017-09-29  southern cross travel aauckland -144.16  travel insurance   \n",
       "2 2017-08-25  southern cross travel aauckland -122.16  travel insurance   \n",
       "3 2017-07-27          1 cover auckland  (115) -144.48  travel insurance   \n",
       "4 2017-02-11                          1 cover -208.00  travel insurance   \n",
       "\n",
       "  Business/Personal      Bank      Account Type  isOverseas  isExpense  \\\n",
       "0          personal  kiwibank  revolving credit           0          1   \n",
       "1          personal  kiwibank  revolving credit           0          1   \n",
       "2          personal  kiwibank  revolving credit           0          1   \n",
       "3          personal       tsb       credit card           0          1   \n",
       "4          personal   westpac       credit card           0          1   \n",
       "\n",
       "   Amount_logabs      Type              Main Category  \\\n",
       "0       4.516558  expenses  international work travel   \n",
       "1       4.970993  expenses  international work travel   \n",
       "2       4.805414  expenses  international work travel   \n",
       "3       4.973210  expenses  international work travel   \n",
       "4       5.337586  expenses  international work travel   \n",
       "\n",
       "                                               label  \n",
       "0  Expenses::International Work Travel::Travel In...  \n",
       "1  Expenses::International Work Travel::Travel In...  \n",
       "2  Expenses::International Work Travel::Travel In...  \n",
       "3  Expenses::International Work Travel::Travel In...  \n",
       "4  Expenses::International Work Travel::Travel In...  "
      ]
     },
     "execution_count": 2,
     "metadata": {},
     "output_type": "execute_result"
    }
   ],
   "source": [
    "txn_all = txn_reader.load_all_transaction_files()\n",
    "print('All data total rows : ', len(txn_all))\n",
    "print(txn_all.isna().sum())\n",
    "df = txn_reader.filter_min_count_category(txn_all, 10)\n",
    "txn_all.head()"
   ]
  },
  {
   "cell_type": "code",
   "execution_count": 3,
   "metadata": {
    "pycharm": {
     "is_executing": false,
     "name": "#%%\n"
    }
   },
   "outputs": [
    {
     "name": "stdout",
     "output_type": "stream",
     "text": [
      "Train : 12920  Test : 3231  Total : 16151\n"
     ]
    }
   ],
   "source": [
    "X = df\n",
    "y = df['label']\n",
    "X_train, X_test, y_train, y_test = train_test_split(X, y, test_size=0.2, random_state=cf.RANDOM_ST)\n",
    "print('Train :', len(X_train), ' Test :', len(X_test), ' Total :', len(X_train) + len(X_test))\n"
   ]
  },
  {
   "cell_type": "code",
   "execution_count": 4,
   "metadata": {
    "pycharm": {
     "is_executing": false,
     "name": "#%%\n"
    }
   },
   "outputs": [
    {
     "name": "stdout",
     "output_type": "stream",
     "text": [
      "Train category count:  56\n"
     ]
    }
   ],
   "source": [
    "train = X_train.drop(columns=['index'])\n",
    "train_count = train.groupby('label').count()['Date']\n",
    "train.to_csv(cf.DATA_PATH+'/train.csv', index=False)\n",
    "print('Train category count: ', len(train_count))"
   ]
  },
  {
   "cell_type": "code",
   "execution_count": 5,
   "metadata": {
    "pycharm": {
     "is_executing": false,
     "name": "#%%\n"
    }
   },
   "outputs": [
    {
     "name": "stdout",
     "output_type": "stream",
     "text": [
      "Test category count:  56\n"
     ]
    }
   ],
   "source": [
    "test = X_test.drop(columns=['index'])\n",
    "test_count = test.groupby('label').count()['Date']\n",
    "test.to_csv(cf.DATA_PATH+'/test.csv', index=False)\n",
    "print('Test category count: ', len(test_count))\n"
   ]
  },
  {
   "cell_type": "code",
   "execution_count": null,
   "metadata": {},
   "outputs": [],
   "source": []
  }
 ],
 "metadata": {
  "kernelspec": {
   "display_name": "Python [conda env:Python3]",
   "language": "python",
   "name": "conda-env-Python3-py"
  },
  "language_info": {
   "codemirror_mode": {
    "name": "ipython",
    "version": 3
   },
   "file_extension": ".py",
   "mimetype": "text/x-python",
   "name": "python",
   "nbconvert_exporter": "python",
   "pygments_lexer": "ipython3",
   "version": "3.6.8"
  },
  "pycharm": {
   "stem_cell": {
    "cell_type": "raw",
    "metadata": {
     "collapsed": false
    },
    "source": []
   }
  }
 },
 "nbformat": 4,
 "nbformat_minor": 1
}
